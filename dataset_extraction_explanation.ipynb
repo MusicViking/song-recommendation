{
 "cells": [
  {
   "attachments": {},
   "cell_type": "markdown",
   "metadata": {},
   "source": [
    "## Songs Dataset\n",
    "\n",
    "19CSE353 Mining of Massive Datasets\n",
    "\n",
    "Group 16"
   ]
  },
  {
   "attachments": {},
   "cell_type": "markdown",
   "metadata": {},
   "source": [
    "To build a clean song dataset, we are using song data available from any free music data APIs. The dataset is a collection of playlists. Each playlist is identified by a unique `playlist_URI`. A playlist contains multiple songs and a song can be in multiple playlists. Each song should contain the following features:\n",
    "- `track_name` - Name of the song\n",
    "- `id` - Unique ID of song\n",
    "- `popularity` - Popularity score of a song\n",
    "- `main_artist_name` - Name of the main artist\n",
    "- `main_artist_id` - Unique ID of the artist\n",
    "- `main_artist_pop` - Popularity score of the main artist\n",
    "- `duration_ms` - Duration (in ms)\n",
    "- `danceability` - a measure of how suitable a track is for dancing based on a combination of musical elements including tempo, rhythm stability, beat strength, and overall regularity\n",
    "- `Speechiness` - the presence of spoken words in a track. Tracks with high speechiness are likely to be tracks that include spoken words or a spoken word-like section\n",
    "- `Acousticness` - a measure of the acoustic characteristics of a track. Tracks with high acousticness are likely to be acoustic recordings or tracks with a strong acoustic presence\n",
    "- `Instrumentalness` - a measure of the presence of vocals in a track. Tracks with high instrumentalness have no vocals, or have very few vocals\n",
    "- `Liveness` - a measure of the presence of a live audience in the recording. Tracks with high liveness are likely to be live recordings\n",
    "- `lyrics` - lyrics"
   ]
  },
  {
   "cell_type": "code",
   "execution_count": 1,
   "metadata": {},
   "outputs": [],
   "source": [
    "from spotipy import SpotifyClientCredentials, Spotify\n",
    "import pandas as pd\n",
    "import lyricsgenius"
   ]
  },
  {
   "attachments": {},
   "cell_type": "markdown",
   "metadata": {},
   "source": [
    "### 1. Extracting Features"
   ]
  },
  {
   "attachments": {},
   "cell_type": "markdown",
   "metadata": {},
   "source": [
    "Song lyrics for each song is extracted from the Genius API (https://genius.com/api-clients).\n",
    "\n",
    "The other features in the dataset have been extracted from the Spotify API (https://developer.spotify.com).\n"
   ]
  },
  {
   "cell_type": "code",
   "execution_count": 2,
   "metadata": {},
   "outputs": [],
   "source": [
    "# client ID\n",
    "cid = '8a6426547acc4865aafacb74e5f6f8f2'\n",
    "\n",
    "# secret key\n",
    "secret = '8c68bb042c7143d2a02235da08959f65'"
   ]
  },
  {
   "attachments": {},
   "cell_type": "markdown",
   "metadata": {},
   "source": [
    "To authenticate without signing into an account, all we need are the IDs, client and secret. Then, we can create our `Spotify` object with the following lines of code:"
   ]
  },
  {
   "cell_type": "code",
   "execution_count": 3,
   "metadata": {},
   "outputs": [],
   "source": [
    "#Authentication - without user\n",
    "client_credentials_manager = SpotifyClientCredentials(client_id=cid, client_secret=secret)\n",
    "sp = Spotify(client_credentials_manager = client_credentials_manager)"
   ]
  },
  {
   "attachments": {},
   "cell_type": "markdown",
   "metadata": {},
   "source": [
    "As the dataset should contain several playlists (from different users), the playlist URIs for various playlists are collected from different users. `track_uris` contain the track URI for all songs in the playlist."
   ]
  },
  {
   "cell_type": "code",
   "execution_count": 4,
   "metadata": {},
   "outputs": [],
   "source": [
    "# mine = ['spotify:playlist:4uoauPzaCVqSttRQTqwZ2L', 'spotify:playlist:37i9dQZF1EQnqst5TRi17F', 'spotify:playlist:37i9dQZEVXbNG2KDcFcKOF', 'spotify:playlist:37i9dQZF1DX5Ejj0EkURtP',  'spotify:playlist:37i9dQZF1DXdPec7aLTmlC', 'spotify:playlist:4QxrT89woB5Wspx9ckSdGd',  'spotify:playlist:37i9dQZF1Eplih7obxH51u', 'spotify:playlist:0uRHOYgXiR3l9BwssW7IMH', 'spotify:playlist:37i9dQZF1E35wuCpDmWrap', 'spotify:playlist:37i9dQZF1E378oGuP4xCRG', 'spotify:playlist:37i9dQZF1E37mRrWXJqsgG', 'spotify:playlist:37i9dQZF1E36D4rGaPzxmb']\n",
    "# sanky = ['spotify:playlist:0pYKCDEitaEtWRzYJX0Hwy']\n",
    "# abhinav = ['spotify:playlist:37i9dQZF1E39ogSZU3u7TI', 'spotify:playlist:37i9dQZF1E38jgqdwoJ7FT', 'spotify:playlist:37i9dQZF1E34ZJaNzb1BvY', 'spotify:playlist:37i9dQZEVXcHeRa2NxjPb9']\n",
    "# kuppesh = ['spotify:playlist:37i9dQZF1E38EzM8DOLYrX', 'spotify:playlist:37i9dQZF1E36VBVVxXKvCu', 'spotify:playlist:37i9dQZF1E36N5EV3mfscl', 'spotify:playlist:37i9dQZF1E35V6ccrOcTbQ', 'spotify:playlist:37i9dQZF1E387U3JrdbQ6M', 'spotify:playlist:37i9dQZF1DXcmMuW52BXP0', 'spotify:playlist:37i9dQZF1DX3YSRoSdA634', 'spotify:playlist:37i9dQZF1EIWkN17HuTXyC', 'spotify:playlist:37i9dQZF1DX1uHCeFHcn8X', 'spotify:playlist:37i9dQZF1DX4WYpdgoIcn6', 'spotify:playlist:0Blc7H0vclyoZYpkfN5oFn', 'spotify:playlist:7J8BhUluUUOFKMv9GkmfbI']\n",
    "# sai = ['spotify:playlist:1mXn9gbgE549RBvI81m9AY']\n",
    "# surya = ['spotify:playlist:3nDh41jdYfMypr5oivf9h5', 'spotify:playlist:0xXEyvUVKJZvgIWpa5cFlf', 'spotify:playlist:37i9dQZF1EIYW4IQAlhUJP', 'spotify:playlist:1pLd88z1nhEGQEHbt66lME', 'spotify:playlist:37i9dQZF1DXbYM3nMM0oPk']\n",
    "# mahesh = ['spotify:playlist:2zMU7NGivRghXZJok2K8ES', 'spotify:playlist:4CCMYzUqYgU2i7opaB7fiM', 'spotify:playlist:6MoR16aokakIrchsWepo2x']\n",
    "# srinithi = ['spotify:playlist:37i9dQZF1EQncLwOalG3K7', 'spotify:playlist:37i9dQZF1DWX83CujKHHOn', 'spotify:playlist:0wO7kqupC0YZBLlJsQwceS']\n",
    "# siva = ['spotify:playlist:4Oj0QeN1Fbc7WVtUXEUf5g', 'spotify:playlist:5ocBqbbt61Uhgc3av7UkDT', 'spotify:playlist:72lmW37G35cATUdAiDPKdj', 'spotify:playlist:37i9dQZF1DXe9YJxYnhkr3', 'spotify:playlist:1pLk4wLoJaWXClz8nqih7G', 'spotify:playlist:4rIoHGE82kPRFP78nJ4HNG', 'spotify:playlist:3vaFOIAhoVXb1nnw0uhylC', 'spotify:playlist:6DuM2G1tnsfdpvm5kwHkqV', 'spotify:playlist:4RAoH95SBNTXdOuwdTawHT', 'spotify:playlist:1RxqaSgJvhbM5LBUzIICek']\n",
    "# hari = ['spotify:playlist:6HgmymGxMWO1sbE3rydKyF', 'spotify:playlist:37i9dQZF1E36eS8SGYuyO0', 'spotify:playlist:37i9dQZF1E39rSG4iUwSQ2', 'spotify:playlist:37i9dQZF1E3a8UkUxaTox8', 'spotify:playlist:37i9dQZF1E39DManSPlYaT', 'spotify:playlist:37i9dQZF1E37I5iTRVDUy9']\n",
    "# yashika = ['spotify:playlist:37i9dQZF1EVKuMoAJjoTIw']\n",
    "# tarun = ['spotify:playlist:4jotW1rQxUQiYUzg2IjZWE', 'spotify:playlist:4Le64nQ9yMjj10cz6mBm8I', 'spotify:playlist:0cNYHRGCv0cyQjeLblv2Oa', 'spotify:playlist:4ZrYMTU1C6MXVTFyJWXDCY', 'spotify:playlist:6ySrUrNk0prJL8szfuiuIA', 'spotify:playlist:1km1zNQfIq8QViMuZskXCA', 'spotify:playlist:56xS80pvoIwoJ0nKYG1JcL', 'spotify:playlist:7aQsuG5GIEg4gkcqLRhapC', 'spotify:playlist:5Zu0NFDjBuDtV7QebwBGCa', 'spotify:playlist:2WF6UcoNpIqObGkChVUtj0', 'spotify:playlist:1jjh8pwHoOOOVm1MVB3QUg', 'spotify:playlist:4sXRtJgQNMcJPuOC34Gmux']\n",
    "# nan = ['spotify:playlist:1MpFBN6y1cROZHGo7AmTFO']"
   ]
  },
  {
   "cell_type": "code",
   "execution_count": 42,
   "metadata": {},
   "outputs": [],
   "source": [
    "# dict containing all track uris in all playlists {'1NDoImNoAtIVAB8stHbSY4': ['spotify:track:4cktbXiXOapiLBMprHFErI', 'spotify:track:4cktbXiXOapiLBMprHFasdfS']}\n",
    "track_uris = {}\n",
    "\n",
    "# dict containing all track details for each playlist {'1NDoImNoAtIVAB8stHbSY4': {[{'added_at': '2022-10-03T13:50:27Z','added_by': {'external_urls': {'spotify': 'https://open.spotify.com/user/ecq...}}\n",
    "tracks = {}\n",
    "\n",
    "for playlist_URI in tarun:\n",
    "    track_uris[playlist_URI] = [x[\"track\"][\"uri\"] for x in sp.playlist_tracks(playlist_URI)[\"items\"]]\n",
    "    tracks[playlist_URI] = sp.playlist_tracks(playlist_URI)[\"items\"]"
   ]
  },
  {
   "attachments": {},
   "cell_type": "markdown",
   "metadata": {},
   "source": [
    "Extract features like `danceability`, `Speechiness`, `Acousticness`, `Instrumentalness`, `Liveness`, etc."
   ]
  },
  {
   "cell_type": "code",
   "execution_count": 43,
   "metadata": {},
   "outputs": [],
   "source": [
    "# dict containing features for each track {'spotify:track:6mQLN3zRtAp6ovjusyYKrV': [{'danceability': 0.775, 'energy': 0.327, 'key': 11,...}]\n",
    "features = {}\n",
    "for k in track_uris:\n",
    "    features[k] = sp.audio_features(track_uris[k])"
   ]
  },
  {
   "attachments": {},
   "cell_type": "markdown",
   "metadata": {},
   "source": [
    "Add `track_name`, `id`, `popularity`, `main_artist_name`, `main_artist_id`, `main_artist_pop`, `duration_ms` to the existing features."
   ]
  },
  {
   "cell_type": "code",
   "execution_count": 44,
   "metadata": {},
   "outputs": [],
   "source": [
    "l = []\n",
    "for i in tracks:\n",
    "    for j in range(len(tracks[i])):\n",
    "        d = {}\n",
    "        track_name = tracks[i][j][\"track\"][\"name\"]\n",
    "        id = tracks[i][j][\"track\"][\"id\"]\n",
    "        popularity = tracks[i][j][\"track\"][\"popularity\"]\n",
    "        main_artist_name = tracks[i][j][\"track\"][\"artists\"][0]['name']\n",
    "        main_artist_id = tracks[i][j][\"track\"][\"artists\"][0]['id']\n",
    "        main_artist_pop = sp.artist(main_artist_id)['popularity']\n",
    "        duration_ms = tracks[i][j]['track'][\"duration_ms\"]\n",
    "        d['playlist_uri'] = i\n",
    "        d['track_name'] = track_name\n",
    "        d['id'] = id\n",
    "        d['popularity'] = popularity\n",
    "        d['main_artist_name'] = main_artist_name\n",
    "        d['main_artist_id'] = main_artist_id\n",
    "        d['main_artist_pop'] = main_artist_pop\n",
    "        d['duration_ms'] = duration_ms\n",
    "        d.update(features[i][j])\n",
    "        l.append(d)"
   ]
  },
  {
   "attachments": {},
   "cell_type": "markdown",
   "metadata": {},
   "source": [
    "Convert the features into a `pandas` `DataFrame` named `songs` and drop unwanted columns."
   ]
  },
  {
   "cell_type": "code",
   "execution_count": 45,
   "metadata": {},
   "outputs": [],
   "source": [
    "songs = pd.DataFrame(l)\n",
    "songs.drop(['energy', 'key', 'loudness', 'mode', 'valence', 'tempo', 'type', 'uri', 'track_href', 'analysis_url', 'time_signature'],axis=1,inplace=True)"
   ]
  },
  {
   "attachments": {},
   "cell_type": "markdown",
   "metadata": {},
   "source": [
    "The file `songs.csv` now contains the features of all songs."
   ]
  },
  {
   "cell_type": "code",
   "execution_count": 2,
   "metadata": {},
   "outputs": [],
   "source": [
    "# songs.to_csv('./songs.csv', index=False, mode='a', header=False)\n",
    "songs = pd.read_csv('./songs.csv')"
   ]
  },
  {
   "attachments": {},
   "cell_type": "markdown",
   "metadata": {},
   "source": [
    "### 2. Extracting Lyrics"
   ]
  },
  {
   "attachments": {},
   "cell_type": "markdown",
   "metadata": {},
   "source": [
    "Song lyrics for each song is extracted from the Genius API (https://genius.com/api-clients).\n",
    "\n",
    "Sign in to https://genius.com/api-clients and create a new API to get the client access token, which will be used to get song lyrics and song info."
   ]
  },
  {
   "cell_type": "code",
   "execution_count": 3,
   "metadata": {},
   "outputs": [],
   "source": [
    "# client access token\n",
    "token = 'oHHffzOEjEPpZcWQvAfRuEdMvTUNYi7iA4ke-Cyez6WxGOkXtzjO-1zxnhWlfq5J'"
   ]
  },
  {
   "cell_type": "code",
   "execution_count": 16,
   "metadata": {},
   "outputs": [
    {
     "data": {
      "text/html": [
       "<div>\n",
       "<style scoped>\n",
       "    .dataframe tbody tr th:only-of-type {\n",
       "        vertical-align: middle;\n",
       "    }\n",
       "\n",
       "    .dataframe tbody tr th {\n",
       "        vertical-align: top;\n",
       "    }\n",
       "\n",
       "    .dataframe thead th {\n",
       "        text-align: right;\n",
       "    }\n",
       "</style>\n",
       "<table border=\"1\" class=\"dataframe\">\n",
       "  <thead>\n",
       "    <tr style=\"text-align: right;\">\n",
       "      <th></th>\n",
       "      <th>track_name</th>\n",
       "      <th>main_artist_name</th>\n",
       "    </tr>\n",
       "  </thead>\n",
       "  <tbody>\n",
       "    <tr>\n",
       "      <th>0</th>\n",
       "      <td>Gin and Juice</td>\n",
       "      <td>Snoop Dogg</td>\n",
       "    </tr>\n",
       "    <tr>\n",
       "      <th>1</th>\n",
       "      <td>Real Muthaphuckkin' G's</td>\n",
       "      <td>Eazy-E</td>\n",
       "    </tr>\n",
       "    <tr>\n",
       "      <th>2</th>\n",
       "      <td>It Ain't Hard to Tell</td>\n",
       "      <td>Nas</td>\n",
       "    </tr>\n",
       "    <tr>\n",
       "      <th>3</th>\n",
       "      <td>Notorious Thugs - 2014 Remaster</td>\n",
       "      <td>The Notorious B.I.G.</td>\n",
       "    </tr>\n",
       "    <tr>\n",
       "      <th>4</th>\n",
       "      <td>Still D.R.E.</td>\n",
       "      <td>Dr. Dre</td>\n",
       "    </tr>\n",
       "    <tr>\n",
       "      <th>...</th>\n",
       "      <td>...</td>\n",
       "      <td>...</td>\n",
       "    </tr>\n",
       "    <tr>\n",
       "      <th>2197</th>\n",
       "      <td>Newyork Nagaram</td>\n",
       "      <td>A.R. Rahman</td>\n",
       "    </tr>\n",
       "    <tr>\n",
       "      <th>2198</th>\n",
       "      <td>Deep Blue</td>\n",
       "      <td>Wyatt Pike</td>\n",
       "    </tr>\n",
       "    <tr>\n",
       "      <th>2199</th>\n",
       "      <td>Everything I Want</td>\n",
       "      <td>Jordy Searcy</td>\n",
       "    </tr>\n",
       "    <tr>\n",
       "      <th>2200</th>\n",
       "      <td>Waterfall</td>\n",
       "      <td>Morningsiders</td>\n",
       "    </tr>\n",
       "    <tr>\n",
       "      <th>2201</th>\n",
       "      <td>I Don’t Think That I Like Her</td>\n",
       "      <td>Charlie Puth</td>\n",
       "    </tr>\n",
       "  </tbody>\n",
       "</table>\n",
       "<p>2202 rows × 2 columns</p>\n",
       "</div>"
      ],
      "text/plain": [
       "                           track_name      main_artist_name\n",
       "0                       Gin and Juice            Snoop Dogg\n",
       "1             Real Muthaphuckkin' G's                Eazy-E\n",
       "2               It Ain't Hard to Tell                   Nas\n",
       "3     Notorious Thugs - 2014 Remaster  The Notorious B.I.G.\n",
       "4                        Still D.R.E.               Dr. Dre\n",
       "...                               ...                   ...\n",
       "2197                  Newyork Nagaram           A.R. Rahman\n",
       "2198                        Deep Blue            Wyatt Pike\n",
       "2199                Everything I Want          Jordy Searcy\n",
       "2200                        Waterfall         Morningsiders\n",
       "2201    I Don’t Think That I Like Her          Charlie Puth\n",
       "\n",
       "[2202 rows x 2 columns]"
      ]
     },
     "execution_count": 16,
     "metadata": {},
     "output_type": "execute_result"
    }
   ],
   "source": [
    "ly = songs.get(['track_name', 'main_artist_name']).drop_duplicates()\n",
    "ly = ly.drop(ly.index[:30]).reset_index(drop=True)\n",
    "ly"
   ]
  },
  {
   "attachments": {},
   "cell_type": "markdown",
   "metadata": {},
   "source": [
    "Create a `Genius` object to get the song lyrics. Get songs using the `Genius.search_song` method. And from each song, get the lyric using the `lyrics` state."
   ]
  },
  {
   "cell_type": "code",
   "execution_count": 17,
   "metadata": {},
   "outputs": [],
   "source": [
    "genius = lyricsgenius.Genius(token, skip_non_songs=True, excluded_terms=[\"(Remix)\", \"(Live)\"], remove_section_headers=True, timeout=10)\n",
    "search_songs = lambda row: genius.search_song(row['track_name'], row['main_artist_name']).lyrics.split('Lyrics\\n')[-1][:-7].split('\\n')"
   ]
  },
  {
   "attachments": {},
   "cell_type": "markdown",
   "metadata": {},
   "source": [
    "Search for song lyrics..."
   ]
  },
  {
   "cell_type": "code",
   "execution_count": 24,
   "metadata": {},
   "outputs": [
    {
     "name": "stdout",
     "output_type": "stream",
     "text": [
      "Searching for \"Lay Low\" by Snoop Dogg...\n",
      "Done.\n",
      "Searching for \"Ghetto Gospel\" by 2Pac...\n",
      "Done.\n",
      "Searching for \"Stan\" by Eminem...\n",
      "Done.\n",
      "Searching for \"No Vaseline\" by Ice Cube...\n",
      "Done.\n",
      "Searching for \"Hustlin'\" by Rick Ross...\n",
      "Done.\n"
     ]
    },
    {
     "data": {
      "text/html": [
       "<div>\n",
       "<style scoped>\n",
       "    .dataframe tbody tr th:only-of-type {\n",
       "        vertical-align: middle;\n",
       "    }\n",
       "\n",
       "    .dataframe tbody tr th {\n",
       "        vertical-align: top;\n",
       "    }\n",
       "\n",
       "    .dataframe thead th {\n",
       "        text-align: right;\n",
       "    }\n",
       "</style>\n",
       "<table border=\"1\" class=\"dataframe\">\n",
       "  <thead>\n",
       "    <tr style=\"text-align: right;\">\n",
       "      <th></th>\n",
       "      <th>track_name</th>\n",
       "      <th>main_artist_name</th>\n",
       "      <th>lyrics</th>\n",
       "    </tr>\n",
       "  </thead>\n",
       "  <tbody>\n",
       "    <tr>\n",
       "      <th>0</th>\n",
       "      <td>Window Shopper</td>\n",
       "      <td>50 Cent</td>\n",
       "      <td>NaN</td>\n",
       "    </tr>\n",
       "    <tr>\n",
       "      <th>1</th>\n",
       "      <td>Can't C Me</td>\n",
       "      <td>2Pac</td>\n",
       "      <td>NaN</td>\n",
       "    </tr>\n",
       "    <tr>\n",
       "      <th>2</th>\n",
       "      <td>Bitch Please II</td>\n",
       "      <td>Eminem</td>\n",
       "      <td>NaN</td>\n",
       "    </tr>\n",
       "    <tr>\n",
       "      <th>3</th>\n",
       "      <td>Izzo (H.O.V.A.)</td>\n",
       "      <td>JAY-Z</td>\n",
       "      <td>NaN</td>\n",
       "    </tr>\n",
       "    <tr>\n",
       "      <th>4</th>\n",
       "      <td>Machine Gun Funk - 2006 Remaster</td>\n",
       "      <td>The Notorious B.I.G.</td>\n",
       "      <td>NaN</td>\n",
       "    </tr>\n",
       "  </tbody>\n",
       "</table>\n",
       "</div>"
      ],
      "text/plain": [
       "                         track_name      main_artist_name lyrics\n",
       "0                    Window Shopper               50 Cent    NaN\n",
       "1                        Can't C Me                  2Pac    NaN\n",
       "2                   Bitch Please II                Eminem    NaN\n",
       "3                   Izzo (H.O.V.A.)                 JAY-Z    NaN\n",
       "4  Machine Gun Funk - 2006 Remaster  The Notorious B.I.G.    NaN"
      ]
     },
     "execution_count": 24,
     "metadata": {},
     "output_type": "execute_result"
    }
   ],
   "source": [
    "ly['lyrics'] = ly.head(5).apply(search_songs, axis = 1)\n",
    "ly.head(5).to_csv('./lyrics.csv', mode='a', header=False, index=False)\n",
    "ly.drop(ly.index[:5], inplace=True)\n",
    "ly.reset_index(drop=True).head(5)"
   ]
  },
  {
   "attachments": {},
   "cell_type": "markdown",
   "metadata": {},
   "source": [
    "Now, the file `lyrics.csv` contains the song lyrics data."
   ]
  }
 ],
 "metadata": {
  "kernelspec": {
   "display_name": "Python 3",
   "language": "python",
   "name": "python3"
  },
  "language_info": {
   "codemirror_mode": {
    "name": "ipython",
    "version": 3
   },
   "file_extension": ".py",
   "mimetype": "text/x-python",
   "name": "python",
   "nbconvert_exporter": "python",
   "pygments_lexer": "ipython3",
   "version": "3.10.11"
  },
  "orig_nbformat": 4
 },
 "nbformat": 4,
 "nbformat_minor": 2
}
